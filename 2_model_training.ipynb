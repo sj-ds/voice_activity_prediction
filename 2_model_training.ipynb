{
 "cells": [
  {
   "cell_type": "code",
   "execution_count": 2,
   "metadata": {},
   "outputs": [],
   "source": [
    "import torch\n",
    "import torch.nn as nn\n",
    "import torch.optim as optim\n",
    "import torchaudio\n",
    "import torchaudio.transforms as T\n",
    "import numpy as np\n",
    "import os\n",
    "import pickle\n",
    "import pyaudio\n",
    "import wave\n",
    "import pandas as pd\n",
    "import matplotlib.pyplot as plt\n",
    "import time\n",
    "from collections import deque\n",
    "from glob import glob\n",
    "from sklearn.model_selection import train_test_split\n",
    "from torch.utils.data import Dataset, DataLoader\n",
    "from torch.nn.utils.rnn import pad_sequence"
   ]
  },
  {
   "cell_type": "code",
   "execution_count": 3,
   "metadata": {},
   "outputs": [
    {
     "name": "stdout",
     "output_type": "stream",
     "text": [
      "['processed_data/dataset_159.csv']\n"
     ]
    }
   ],
   "source": [
    "## Loading Dataset \n",
    "\n",
    "# Custom dataset class for extracting MFCC features and labels\n",
    "class VAPDataset(Dataset):\n",
    "    def __init__(self, csv_files):\n",
    "        if isinstance(csv_files, str):\n",
    "            csv_files = [csv_files]\n",
    "        \n",
    "        self.data = pd.concat([pd.read_csv(f) for f in csv_files], ignore_index=True)\n",
    "        self.features = [torch.tensor(eval(f)) for f in self.data['features']]\n",
    "        self.labels = [torch.tensor(eval(l)) for l in self.data['labels']]\n",
    "    \n",
    "    def __len__(self):\n",
    "        return len(self.features)\n",
    "    \n",
    "    def __getitem__(self, idx):\n",
    "        feature = self.features[idx]\n",
    "        label = self.labels[idx]\n",
    "        if feature.shape[0] != label.shape[0]:\n",
    "            print(f\"Mismatch at index {idx}: feature shape {feature.shape}, label shape {label.shape}\")\n",
    "        return feature, label\n",
    "    \n",
    "\n",
    "## Define number of files to be used for model training\n",
    "csv_files = glob(\"processed_data/*.csv\")[:1]\n",
    "\n",
    "print(csv_files)\n",
    "\n"
   ]
  },
  {
   "cell_type": "code",
   "execution_count": 4,
   "metadata": {},
   "outputs": [],
   "source": [
    "# Collate function to pad variable-length sequences\n",
    "def collate_fn(batch):\n",
    "    features, labels = zip(*batch)\n",
    "    features_padded = pad_sequence(features, batch_first=True, padding_value=0)\n",
    "    labels_padded = pad_sequence(labels, batch_first=True, padding_value=0)\n",
    "    return features_padded, labels_padded\n",
    "\n",
    "\n",
    "# Function to save model as pickle file\n",
    "def save_model_pickle(model, path=\"vap_model.pkl\"):\n",
    "    with open(path, \"wb\") as f:\n",
    "        pickle.dump(model, f)\n",
    "    print(\"Model saved successfully as pickle file!\")"
   ]
  },
  {
   "cell_type": "code",
   "execution_count": 5,
   "metadata": {},
   "outputs": [],
   "source": [
    "# Load dataset from CSV\n",
    "train_dataset = VAPDataset(csv_files)\n",
    "train_loader = DataLoader(train_dataset, batch_size=16, shuffle=True, collate_fn=collate_fn)"
   ]
  },
  {
   "cell_type": "code",
   "execution_count": 6,
   "metadata": {},
   "outputs": [],
   "source": [
    "#### DEFINE MODEL ####\n",
    "\n",
    "# Define the VAP Model based on the GitHub repository\n",
    "class VAPModel(nn.Module):\n",
    "    def __init__(self, input_dim=40, hidden_dim=128, num_heads=4, num_layers=2, output_dim=2):\n",
    "        super(VAPModel, self).__init__()\n",
    "        self.encoder = nn.Linear(input_dim, hidden_dim)\n",
    "        self.transformer = nn.TransformerEncoder(\n",
    "            nn.TransformerEncoderLayer(d_model=hidden_dim, nhead=num_heads),\n",
    "            num_layers=num_layers\n",
    "        )\n",
    "        self.fc = nn.Linear(hidden_dim, output_dim)\n",
    "    \n",
    "    def forward(self, x):\n",
    "        x = self.encoder(x)\n",
    "        x = self.transformer(x)\n",
    "        x = self.fc(x)\n",
    "        return torch.sigmoid(x)"
   ]
  },
  {
   "cell_type": "code",
   "execution_count": 7,
   "metadata": {},
   "outputs": [
    {
     "name": "stderr",
     "output_type": "stream",
     "text": [
      "/Library/Frameworks/Python.framework/Versions/3.12/lib/python3.12/site-packages/torch/nn/modules/transformer.py:385: UserWarning: enable_nested_tensor is True, but self.use_nested_tensor is False because encoder_layer.self_attn.batch_first was not True(use batch_first for better inference performance)\n",
      "  warnings.warn(\n"
     ]
    }
   ],
   "source": [
    "# Initialize model, loss function, and optimizer\n",
    "model = VAPModel()\n",
    "criterion = nn.BCELoss()\n",
    "optimizer = optim.Adam(model.parameters(), lr=0.001)"
   ]
  },
  {
   "cell_type": "code",
   "execution_count": 9,
   "metadata": {},
   "outputs": [],
   "source": [
    "#### DEFINING TRAINING  ####\n",
    "\n",
    "\n",
    "\n",
    "# Training loop\n",
    "def train_model(model, train_loader, epochs=10):\n",
    "    plot_list = []\n",
    "    for epoch in range(epochs):\n",
    "        model.train()\n",
    "        total_loss = 0\n",
    "        val_loss = 0\n",
    "        for features, labels in train_loader:\n",
    "            optimizer.zero_grad()\n",
    "            outputs = model(features)\n",
    "            \n",
    "            min_length = min(outputs.shape[1], labels.shape[1])\n",
    "            outputs = outputs[:, :min_length, :]\n",
    "            labels = labels[:, :min_length, :]\n",
    "            \n",
    "            loss = criterion(outputs, labels)\n",
    "            loss.backward()\n",
    "            optimizer.step()\n",
    "            total_loss += loss.item()\n",
    "        \n",
    "        # Compute validation loss\n",
    "        model.eval()\n",
    "        with torch.no_grad():\n",
    "            for features, labels in train_loader:\n",
    "                outputs = model(features)\n",
    "                outputs = outputs[:, :min_length, :]\n",
    "                labels = labels[:, :min_length, :]\n",
    "                loss = criterion(outputs, labels)\n",
    "                val_loss += loss.item()\n",
    "        \n",
    "        print(f\"Epoch {epoch+1}/{epochs}, Train Loss: {total_loss/len(train_loader):.4f}, Val Loss: {val_loss/len(train_loader):.4f}\")\n",
    "\n",
    "        plot_list.append([epoch+1, total_loss/len(train_loader), val_loss/len(train_loader)])\n",
    "\n",
    "    save_model_pickle(model)\n",
    "    return plot_list"
   ]
  },
  {
   "cell_type": "code",
   "execution_count": 10,
   "metadata": {},
   "outputs": [
    {
     "name": "stdout",
     "output_type": "stream",
     "text": [
      "Epoch 1/10, Train Loss: 0.5981, Val Loss: 0.4353\n",
      "Epoch 2/10, Train Loss: 0.4395, Val Loss: 0.5024\n",
      "Epoch 3/10, Train Loss: 0.4211, Val Loss: 0.4863\n",
      "Epoch 4/10, Train Loss: 0.4069, Val Loss: 0.4771\n",
      "Epoch 5/10, Train Loss: 0.4243, Val Loss: 0.4437\n",
      "Epoch 6/10, Train Loss: 0.4288, Val Loss: 0.4960\n",
      "Epoch 7/10, Train Loss: 0.4208, Val Loss: 0.4366\n",
      "Epoch 8/10, Train Loss: 0.4323, Val Loss: 0.4549\n",
      "Epoch 9/10, Train Loss: 0.4064, Val Loss: 0.4336\n",
      "Epoch 10/10, Train Loss: 0.3970, Val Loss: 0.4337\n",
      "Model saved successfully as pickle file!\n",
      "Training complete!\n"
     ]
    }
   ],
   "source": [
    "# Train the model\n",
    "plot_list = train_model(model, train_loader, epochs=10)\n",
    "print(\"Training complete!\")"
   ]
  },
  {
   "cell_type": "code",
   "execution_count": null,
   "metadata": {},
   "outputs": [
    {
     "data": {
      "image/png": "[encoded data removed]",
      "text/plain": [
       "<Figure size 640x480 with 1 Axes>"
      ]
     },
     "metadata": {},
     "output_type": "display_data"
    }
   ],
   "source": [
    "import matplotlib.pyplot as plt\n",
    "\n",
    "x, y1, y2 = [], [], []\n",
    "\n",
    "for i in plot_list:\n",
    "    x.append(i[0])\n",
    "    y1.append(i[1])\n",
    "    y2.append(i[2])\n",
    "\n",
    "# Customizing line styles and markers\n",
    "plt.plot(x, y1, label=\"Train Loss\", linestyle='--', marker='o', color='red')\n",
    "plt.plot(x, y2, label=\"Val Loss\", linestyle=':', marker='x', color='blue')\n",
    "plt.xlabel(\"X-axis\")\n",
    "plt.ylabel(\"Y-axis\")\n",
    "plt.title(\"Custom Lines\")\n",
    "plt.legend()\n",
    "\n",
    "# Setting axis limits\n",
    "plt.plot(x, y1)\n",
    "plt.xlabel(\"X-axis\")\n",
    "plt.ylabel(\"Y-axis\")\n",
    "plt.title(\"Axis Limits\")\n",
    "plt.xlim(0, len(plot_list))  # Set x-axis limits --> depends on the number of epochs --> number of lists in plot_list\n",
    "plt.ylim(0, 1)  # Set y-axis limits\n",
    "\n",
    "plt.show()\n"
   ]
  },
  {
   "cell_type": "code",
   "execution_count": null,
   "metadata": {},
   "outputs": [],
   "source": []
  }
 ],
 "metadata": {
  "kernelspec": {
   "display_name": "Python 3",
   "language": "python",
   "name": "python3"
  },
  "language_info": {
   "codemirror_mode": {
    "name": "ipython",
    "version": 3
   },
   "file_extension": ".py",
   "mimetype": "text/x-python",
   "name": "python",
   "nbconvert_exporter": "python",
   "pygments_lexer": "ipython3",
   "version": "3.12.8"
  }
 },
 "nbformat": 4,
 "nbformat_minor": 2
}
